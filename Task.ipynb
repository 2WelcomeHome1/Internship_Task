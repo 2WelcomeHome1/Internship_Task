{
 "cells": [
  {
   "cell_type": "markdown",
   "id": "f799a2cb",
   "metadata": {},
   "source": [
    "## Импортируем бибилиотеки"
   ]
  },
  {
   "cell_type": "code",
   "execution_count": 247,
   "id": "516deae7",
   "metadata": {},
   "outputs": [],
   "source": [
    "import random\n",
    "from itertools import groupby"
   ]
  },
  {
   "cell_type": "markdown",
   "id": "1499a15f",
   "metadata": {},
   "source": [
    "## Task 1"
   ]
  },
  {
   "cell_type": "markdown",
   "id": "437f2fad",
   "metadata": {},
   "source": [
    "Функции:<p>\n",
    "        get_customers_psevdoID - генерирует набор случайн[[ ID в зависимости от числа клиентов.<p>\n",
    "        sum_of_digits - суммирует цифры в числе (в id)<p>\n",
    "        group_checker - группирует клиентов <p>\n",
    "        "
   ]
  },
  {
   "cell_type": "code",
   "execution_count": 248,
   "id": "9d8fcbb6",
   "metadata": {},
   "outputs": [],
   "source": [
    "class task1():\n",
    "    def sum_of_digits(num):\n",
    "        sum = 0\n",
    "        while num > 0:\n",
    "            sum += num % 10\n",
    "            num //= 10\n",
    "        return sum\n",
    "    \n",
    "    def get_customers_psevdoID(n_customers):\n",
    "        list_id = []\n",
    "        try:\n",
    "            n_customers = int (n_customers)\n",
    "            for i in range(1, n_customers+1):\n",
    "                get_id = '{:07}'.format(i)\n",
    "                get_id = int(get_id)\n",
    "                sum_id = task1.sum_of_digits(get_id)\n",
    "                list_id.append(sum_id)\n",
    "        except:\n",
    "            list_id = 0\n",
    "        return list_id \n",
    "    \n",
    "    def group_checker (my_list):\n",
    "        if type (list_id) == int:\n",
    "            return 'Sorry, smth get wrong'\n",
    "        list_id.sort()\n",
    "        for i,j in groupby(list_id):\n",
    "            group = list(j)\n",
    "            group_member_counter = len(group)\n",
    "            print('In group: ', group[0],'-', group_member_counter, 'people')"
   ]
  },
  {
   "cell_type": "markdown",
   "id": "1e6b57d4",
   "metadata": {},
   "source": [
    "На вход функциии get_customers_psevdoID подается число клиентов, условно находящихся в БД. Функция генерирует необходимый объем псевдоИД со сквозной нумерацией, начинающейся с 0000001. Затем с помощью функции group_checker, происходит подсчет числа клиентов в каждой группе."
   ]
  },
  {
   "cell_type": "code",
   "execution_count": 252,
   "id": "2c1c00e2",
   "metadata": {},
   "outputs": [
    {
     "name": "stdout",
     "output_type": "stream",
     "text": [
      "In group:  1 - 5 people\n",
      "In group:  2 - 15 people\n",
      "In group:  3 - 35 people\n",
      "In group:  4 - 70 people\n",
      "In group:  5 - 126 people\n",
      "In group:  6 - 205 people\n",
      "In group:  7 - 315 people\n",
      "In group:  8 - 460 people\n",
      "In group:  9 - 645 people\n",
      "In group:  10 - 871 people\n",
      "In group:  11 - 1135 people\n",
      "In group:  12 - 1430 people\n",
      "In group:  13 - 1745 people\n",
      "In group:  14 - 2065 people\n",
      "In group:  15 - 2375 people\n",
      "In group:  16 - 2660 people\n",
      "In group:  17 - 2905 people\n",
      "In group:  18 - 3095 people\n",
      "In group:  19 - 3215 people\n",
      "In group:  20 - 3256 people\n",
      "In group:  21 - 3215 people\n",
      "In group:  22 - 3095 people\n",
      "In group:  23 - 2905 people\n",
      "In group:  24 - 2660 people\n",
      "In group:  25 - 2375 people\n",
      "In group:  26 - 2065 people\n",
      "In group:  27 - 1745 people\n",
      "In group:  28 - 1430 people\n",
      "In group:  29 - 1135 people\n",
      "In group:  30 - 871 people\n",
      "In group:  31 - 645 people\n",
      "In group:  32 - 460 people\n",
      "In group:  33 - 315 people\n",
      "In group:  34 - 205 people\n",
      "In group:  35 - 125 people\n",
      "In group:  36 - 70 people\n",
      "In group:  37 - 35 people\n",
      "In group:  38 - 15 people\n",
      "In group:  39 - 5 people\n",
      "In group:  40 - 1 people\n"
     ]
    }
   ],
   "source": [
    "n_customers = 50000\n",
    "list_id = task1.get_customers_psevdoID(n_customers)\n",
    "task1.group_checker (list_id)"
   ]
  },
  {
   "cell_type": "markdown",
   "id": "62527083",
   "metadata": {},
   "source": [
    "## Task 2"
   ]
  },
  {
   "cell_type": "markdown",
   "id": "0ca376ba",
   "metadata": {},
   "source": [
    "На вход функциии get_customers_psevdoID подается число клиентов и стартовый ID клиента в последовательности, условно находящегося в БД. Затем функция условно генерирует список всех ID клиентов, состоящий из случайных чисел. С помощью условия происходит отсев значений, находящихся условно выше по списку (в последовательности). Затем с помощью функции group_checker, происходит подсчет числа клиентов в каждой группе."
   ]
  },
  {
   "cell_type": "code",
   "execution_count": 253,
   "id": "20b5731b",
   "metadata": {},
   "outputs": [],
   "source": [
    "class task2():\n",
    "    def sum_of_digits(num):\n",
    "        sum = 0\n",
    "        while num > 0:\n",
    "            sum += num % 10\n",
    "            num //= 10\n",
    "        return sum\n",
    "    \n",
    "    def get_customers_psevdoID(customer_nuber,first_id):\n",
    "        list_id = []\n",
    "        list_id.append (task2.sum_of_digits(first_id))\n",
    "        try:\n",
    "            n_customers = int (customer_nuber)\n",
    "            for i in range (n_customers):\n",
    "                ID = random.randint(1,10000000)\n",
    "                if ID >= first_id:\n",
    "                    sum_id = task2.sum_of_digits(ID)\n",
    "                    list_id.append(sum_id)\n",
    "        except:\n",
    "            print ('Wrong customer nuber')\n",
    "            pass\n",
    "        return list_id\n",
    "    \n",
    "    def group_checker (my_list):\n",
    "        if type (list_id) == int:\n",
    "            return 'Sorry, smth get wrong'\n",
    "        list_id.sort()\n",
    "        for i,j in groupby(list_id):\n",
    "            group = list(j)\n",
    "            group_member_counter = len(group)\n",
    "            print('In group: ', group[0],'-', group_member_counter, 'people')"
   ]
  },
  {
   "cell_type": "code",
   "execution_count": 254,
   "id": "a4e649f9",
   "metadata": {},
   "outputs": [
    {
     "name": "stdout",
     "output_type": "stream",
     "text": [
      "In group:  5 - 2 people\n",
      "In group:  6 - 1 people\n",
      "In group:  7 - 4 people\n",
      "In group:  8 - 7 people\n",
      "In group:  9 - 10 people\n",
      "In group:  10 - 13 people\n",
      "In group:  11 - 29 people\n",
      "In group:  12 - 42 people\n",
      "In group:  13 - 56 people\n",
      "In group:  14 - 89 people\n",
      "In group:  15 - 127 people\n",
      "In group:  16 - 169 people\n",
      "In group:  17 - 216 people\n",
      "In group:  18 - 360 people\n",
      "In group:  19 - 406 people\n",
      "In group:  20 - 539 people\n",
      "In group:  21 - 667 people\n",
      "In group:  22 - 822 people\n",
      "In group:  23 - 937 people\n",
      "In group:  24 - 1147 people\n",
      "In group:  25 - 1332 people\n",
      "In group:  26 - 1515 people\n",
      "In group:  27 - 1601 people\n",
      "In group:  28 - 1819 people\n",
      "In group:  29 - 1971 people\n",
      "In group:  30 - 2073 people\n",
      "In group:  31 - 2146 people\n",
      "In group:  32 - 2077 people\n",
      "In group:  33 - 2221 people\n",
      "In group:  34 - 2098 people\n",
      "In group:  35 - 2147 people\n",
      "In group:  36 - 1945 people\n",
      "In group:  37 - 1828 people\n",
      "In group:  38 - 1694 people\n",
      "In group:  39 - 1524 people\n",
      "In group:  40 - 1299 people\n",
      "In group:  41 - 1188 people\n",
      "In group:  42 - 1021 people\n",
      "In group:  43 - 794 people\n",
      "In group:  44 - 668 people\n",
      "In group:  45 - 568 people\n",
      "In group:  46 - 446 people\n",
      "In group:  47 - 342 people\n",
      "In group:  48 - 240 people\n",
      "In group:  49 - 192 people\n",
      "In group:  50 - 153 people\n",
      "In group:  51 - 106 people\n",
      "In group:  52 - 60 people\n",
      "In group:  53 - 44 people\n",
      "In group:  54 - 24 people\n",
      "In group:  55 - 9 people\n",
      "In group:  56 - 4 people\n",
      "In group:  57 - 6 people\n",
      "In group:  58 - 3 people\n",
      "In group:  60 - 2 people\n"
     ]
    }
   ],
   "source": [
    "n_customers = 50000\n",
    "n_first_id = random.randint(1,10000000)\n",
    "list_id = task2.get_customers_psevdoID(n_customers, n_first_id)\n",
    "task2.group_checker (list_id)"
   ]
  }
 ],
 "metadata": {
  "kernelspec": {
   "display_name": "Python 3 (ipykernel)",
   "language": "python",
   "name": "python3"
  },
  "language_info": {
   "codemirror_mode": {
    "name": "ipython",
    "version": 3
   },
   "file_extension": ".py",
   "mimetype": "text/x-python",
   "name": "python",
   "nbconvert_exporter": "python",
   "pygments_lexer": "ipython3",
   "version": "3.9.12"
  }
 },
 "nbformat": 4,
 "nbformat_minor": 5
}
